{
 "cells": [
  {
   "cell_type": "code",
   "execution_count": 21,
   "metadata": {
    "collapsed": false
   },
   "outputs": [
    {
     "name": "stdout",
     "output_type": "stream",
     "text": [
      "[[ 0.  0.  0.  0.  0.  0.  0.  0.  0.  0.]\n",
      " [ 0.  0.  0.  0.  0.  0.  0.  0.  0.  0.]\n",
      " [ 0.  0.  1.  1.  1.  0.  0.  0.  0.  0.]\n",
      " [ 0.  0.  0.  0.  0.  0.  0.  0.  0.  0.]\n",
      " [ 0.  0.  0.  0.  0.  0.  0.  0.  0.  0.]\n",
      " [ 0.  0.  0.  0.  0.  0.  0.  0.  0.  0.]\n",
      " [ 0.  0.  0.  0.  1.  1.  1.  0.  0.  0.]\n",
      " [ 0.  0.  0.  1.  1.  1.  0.  0.  0.  0.]\n",
      " [ 0.  0.  0.  0.  0.  0.  0.  0.  0.  0.]\n",
      " [ 0.  0.  0.  0.  0.  0.  0.  0.  0.  0.]]\n"
     ]
    }
   ],
   "source": [
    "Ne=10\n",
    "Ns=5\n",
    "Blinker=np.zeros((Ne,Ne))\n",
    "Blinker[2,2]=1\n",
    "Blinker[2,3]=1\n",
    "Blinker[2,4]=1\n",
    "Blinker[2,2]=1\n",
    "Blinker[2,3]=1\n",
    "Blinker[6,4]=1\n",
    "Blinker[6,5]=1\n",
    "Blinker[6,6]=1\n",
    "Blinker[7,3]=1\n",
    "Blinker[7,4]=1\n",
    "Blinker[7,5]=1\n",
    "A=Blinker\n",
    "print(A)"
   ]
  },
  {
   "cell_type": "code",
   "execution_count": 22,
   "metadata": {
    "collapsed": false
   },
   "outputs": [
    {
     "data": {
      "image/png": "[encoded data removed]",
      "text/plain": [
       "<matplotlib.figure.Figure at 0x7fc0a22547b8>"
      ]
     },
     "metadata": {},
     "output_type": "display_data"
    },
    {
     "data": {
      "image/png": "[encoded data removed]",
      "text/plain": [
       "<matplotlib.figure.Figure at 0x7fc0a1f064a8>"
      ]
     },
     "metadata": {},
     "output_type": "display_data"
    },
    {
     "data": {
      "image/png": "[encoded data removed]",
      "text/plain": [
       "<matplotlib.figure.Figure at 0x7fc0a2032a58>"
      ]
     },
     "metadata": {},
     "output_type": "display_data"
    },
    {
     "data": {
      "image/png": "[encoded data removed]",
      "text/plain": [
       "<matplotlib.figure.Figure at 0x7fc0a1eea4a8>"
      ]
     },
     "metadata": {},
     "output_type": "display_data"
    },
    {
     "data": {
      "image/png": "[encoded data removed]",
      "text/plain": [
       "<matplotlib.figure.Figure at 0x7fc0a218ba20>"
      ]
     },
     "metadata": {},
     "output_type": "display_data"
    }
   ],
   "source": [
    "from random import randint\n",
    "import numpy as np\n",
    "import matplotlib.pyplot as plt\n",
    "%matplotlib inline\n",
    "#Glaider=np.zeros((Ne,Ne))\n",
    "#Glaider[1,3]=1\n",
    "#Glaider[2,1]=1\n",
    "#Glaider[2,3]=1\n",
    "#Glaider[3,2]=1\n",
    "#Glaider[3,3]=1\n",
    "#A=Glaider\n",
    "#A=np.random.randint(2, size=(Ne, Ne))\n",
    "A=Blinker\n",
    "B=np.zeros((Ne,Ne))\n",
    "def NeibSum(i,j):\n",
    "    \n",
    "    return A[i-1,j-1]+A[i-1,j]+A[i-1,(j+1)%Ne]+A[i,j-1]+A[i,(j+1)%Ne]+A[(i+1)%Ne,(j-1)]+A[(i+1)%Ne,j]+A[(i+1)%Ne,(j+1)%Ne]\n",
    "\n",
    "Game=[A]\n",
    "for n in range(Ns-1):\n",
    "    for i in range(0,Ne):\n",
    "        for j in range(0,Ne):\n",
    "            b=NeibSum(i,j)\n",
    "            if b<2:\n",
    "                B[i,j]=0\n",
    "            elif b==2:\n",
    "                B[i,j]=A[i,j]\n",
    "            elif b>3:\n",
    "                B[i,j]=0\n",
    "            elif b==3:\n",
    "                B[i,j]=1\n",
    "    Game.append(B)  \n",
    "    A=B  \n",
    "    B=np.zeros((Ne,Ne))\n",
    "\n",
    "plt.imshow(Game[0],interpolation='nearest')\n",
    "plt.show()\n",
    "plt.imshow(Game[1],interpolation='nearest')\n",
    "plt.show()\n",
    "plt.imshow(Game[2],interpolation='nearest')\n",
    "plt.show()\n",
    "plt.imshow(Game[3],interpolation='nearest')\n",
    "plt.show()\n",
    "plt.imshow(Game[4],interpolation='nearest')\n",
    "plt.show()\n"
   ]
  },
  {
   "cell_type": "code",
   "execution_count": null,
   "metadata": {
    "collapsed": true
   },
   "outputs": [],
   "source": []
  }
 ],
 "metadata": {
  "kernelspec": {
   "display_name": "Python 3",
   "language": "python",
   "name": "python3"
  },
  "language_info": {
   "codemirror_mode": {
    "name": "ipython",
    "version": 3
   },
   "file_extension": ".py",
   "mimetype": "text/x-python",
   "name": "python",
   "nbconvert_exporter": "python",
   "pygments_lexer": "ipython3",
   "version": "3.4.0"
  }
 },
 "nbformat": 4,
 "nbformat_minor": 0
}
